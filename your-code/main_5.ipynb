{
  "cells": [
    {
      "cell_type": "code",
      "execution_count": 1,
      "metadata": {
        "colab": {
          "base_uri": "https://localhost:8080/",
          "height": 16
        },
        "id": "dbG_vNM4mvtQ",
        "outputId": "7007a534-067f-4984-8c40-dd306a92eeb6"
      },
      "outputs": [
        {
          "name": "stderr",
          "output_type": "stream",
          "text": [
            "/var/folders/s9/cwp75q7j0mx8d003pb8dqhvc0000gn/T/ipykernel_5375/3777615979.py:1: DeprecationWarning: Importing display from IPython.core.display is deprecated since IPython 7.14, please import from IPython display\n",
            "  from IPython.core.display import display, HTML\n"
          ]
        },
        {
          "data": {
            "text/html": [
              "<style>.container { width:100% !important; }</style>"
            ],
            "text/plain": [
              "<IPython.core.display.HTML object>"
            ]
          },
          "metadata": {},
          "output_type": "display_data"
        }
      ],
      "source": [
        "from IPython.core.display import display, HTML\n",
        "display(HTML(\"<style>.container { width:100% !important; }</style>\"))"
      ]
    },
    {
      "cell_type": "markdown",
      "metadata": {
        "id": "ebnksRkNmvtT"
      },
      "source": [
        "# Lab | Natural Language Processing\n",
        "### SMS: SPAM or HAM"
      ]
    },
    {
      "cell_type": "markdown",
      "metadata": {
        "id": "r3quuMJUmvtW"
      },
      "source": [
        "### Let's prepare the environment"
      ]
    },
    {
      "cell_type": "code",
      "execution_count": 2,
      "metadata": {
        "id": "upx7t68vmvtX"
      },
      "outputs": [],
      "source": [
        "import pandas as pd\n",
        "import matplotlib.pyplot as plt\n",
        "from sklearn.feature_extraction.text import TfidfVectorizer"
      ]
    },
    {
      "cell_type": "markdown",
      "metadata": {
        "id": "wnXcKrn4mvtY"
      },
      "source": [
        "- Read Data for the Fraudulent Email Kaggle Challenge\n",
        "- Reduce the training set to speead up development."
      ]
    },
    {
      "cell_type": "code",
      "execution_count": 5,
      "metadata": {
        "colab": {
          "base_uri": "https://localhost:8080/"
        },
        "id": "j7TQGsfUmvtY",
        "outputId": "5bac89dc-fbae-4533-955d-53eb30ba20b1"
      },
      "outputs": [
        {
          "name": "stdout",
          "output_type": "stream",
          "text": [
            "(1000, 2)\n"
          ]
        }
      ],
      "source": [
        "## Read Data for the Fraudulent Email Kaggle Challenge\n",
        "data = pd.read_csv(\"/Users/aleph/Desktop/SDA/week4/Lab1w4/lab-natural-language-processing/data/kg_train.csv\",encoding='latin-1')\n",
        "\n",
        "# Reduce the training set to speed up development.\n",
        "# Modify for final system\n",
        "data = data.head(1000)\n",
        "print(data.shape)\n",
        "data.fillna(\"\",inplace=True)"
      ]
    },
    {
      "cell_type": "markdown",
      "metadata": {
        "id": "EQvbQmVMmvtZ"
      },
      "source": [
        "### Let's divide the training and test set into two partitions"
      ]
    },
    {
      "cell_type": "code",
      "execution_count": null,
      "metadata": {
        "colab": {
          "base_uri": "https://localhost:8080/"
        },
        "id": "5sHx2rS8mvta",
        "outputId": "17f982f7-05ba-435c-c4ff-b136443fa867"
      },
      "outputs": [
        {
          "name": "stdout",
          "output_type": "stream",
          "text": [
            "Training set size: 800\n",
            "Test set size: 200\n"
          ]
        }
      ],
      "source": [
        "from sklearn.model_selection import train_test_split\n",
        "\n",
        "# Assuming 'data' is your DataFrame and contains two columns: 'text' and 'label'\n",
        "# Divide the data into a training set and a test set\n",
        "X = data['text']  # Your feature (text data)\n",
        "y = data['label']  # Your target (label: SPAM or HAM)\n",
        "\n",
        "# Split the data into 80% training and 20% testing\n",
        "X_train, X_test, y_train, y_test = train_test_split(X, y, test_size=0.2, random_state=42)\n",
        "\n",
        "# Check the size of the resulting splits\n",
        "print(f\"Training set size: {len(X_train)}\")\n",
        "print(f\"Test set size: {len(X_test)}\")\n"
      ]
    },
    {
      "cell_type": "markdown",
      "metadata": {
        "id": "ujZIXii2mvtb"
      },
      "source": [
        "## Data Preprocessing"
      ]
    },
    {
      "cell_type": "code",
      "execution_count": null,
      "metadata": {
        "colab": {
          "base_uri": "https://localhost:8080/"
        },
        "id": "f3JGiBVnskh5",
        "outputId": "299cf4dd-bbc0-47e7-9777-525ccbae1a5d"
      },
      "outputs": [
        {
          "name": "stderr",
          "output_type": "stream",
          "text": [
            "[nltk_data] Downloading package stopwords to /root/nltk_data...\n",
            "[nltk_data]   Unzipping corpora/stopwords.zip.\n"
          ]
        },
        {
          "data": {
            "text/plain": [
              "True"
            ]
          },
          "execution_count": 17,
          "metadata": {},
          "output_type": "execute_result"
        }
      ],
      "source": [
        "import nltk\n",
        "nltk.download('stopwords')"
      ]
    },
    {
      "cell_type": "code",
      "execution_count": null,
      "metadata": {
        "colab": {
          "base_uri": "https://localhost:8080/"
        },
        "id": "YMveKtVjmvtc",
        "outputId": "2835a21e-bbd5-4f5f-ca39-4646c644c376"
      },
      "outputs": [
        {
          "name": "stdout",
          "output_type": "stream",
          "text": [
            "!\"#$%&'()*+,-./:;<=>?@[\\]^_`{|}~\n",
            "['needn', \"needn't\", 'no', 'nor', 'not', 'now', 'o', 'of', 'off', 'on']\n"
          ]
        }
      ],
      "source": [
        "import string\n",
        "from nltk.corpus import stopwords\n",
        "print(string.punctuation)\n",
        "print(stopwords.words(\"english\")[100:110])\n",
        "from nltk.stem.snowball import SnowballStemmer\n",
        "snowball = SnowballStemmer('english')"
      ]
    },
    {
      "cell_type": "markdown",
      "metadata": {
        "id": "WdkfcFD_mvtd"
      },
      "source": [
        "## Now, we have to clean the html code removing words\n",
        "\n",
        "- First we remove inline JavaScript/CSS\n",
        "- Then we remove html comments. This has to be done before removing regular tags since comments can contain '>' characters\n",
        "- Next we can remove the remaining tags"
      ]
    },
    {
      "cell_type": "code",
      "execution_count": null,
      "metadata": {
        "colab": {
          "base_uri": "https://localhost:8080/"
        },
        "id": "76RLbrS4mvte",
        "outputId": "2d8200c5-9572-48e5-a928-1ea7725293ff"
      },
      "outputs": [
        {
          "name": "stdout",
          "output_type": "stream",
          "text": [
            "0    DEAR SIR, STRICTLY A PRIVATE BUSINESS PROPOSAL...\n",
            "1                                             Will do.\n",
            "2    Nora--Cheryl has emailed dozens of memos about...\n",
            "3    Dear Sir=2FMadam=2C I know that this proposal ...\n",
            "4                                                  fyi\n",
            "Name: cleaned_text, dtype: object\n"
          ]
        },
        {
          "name": "stderr",
          "output_type": "stream",
          "text": [
            "<ipython-input-19-148a0c069df1>:14: MarkupResemblesLocatorWarning: The input passed in on this line looks more like a URL than HTML or XML.\n",
            "\n",
            "If you meant to use Beautiful Soup to parse the web page found at a certain URL, then something has gone wrong. You should use an Python package like 'requests' to fetch the content behind the URL. Once you have the content as a string, you can feed that string into Beautiful Soup.\n",
            "\n",
            "However, if you want to parse some data that happens to look like a URL, then nothing has gone wrong: you are using Beautiful Soup correctly, and this warning is spurious and can be filtered. To make this warning go away, run this code before calling the BeautifulSoup constructor:\n",
            "\n",
            "    from bs4 import MarkupResemblesLocatorWarning\n",
            "    import warnings\n",
            "\n",
            "    warnings.filterwarnings(\"ignore\", category=MarkupResemblesLocatorWarning)\n",
            "    \n",
            "  soup = BeautifulSoup(text, \"html.parser\")\n"
          ]
        }
      ],
      "source": [
        "import re\n",
        "from bs4 import BeautifulSoup\n",
        "\n",
        "# Function to clean the HTML content\n",
        "def clean_html(text):\n",
        "    # 1. Remove inline JavaScript and CSS\n",
        "    text = re.sub(r'<script.*?>.*?</script>', '', text, flags=re.DOTALL)  # Remove <script> tags\n",
        "    text = re.sub(r'<style.*?>.*?</style>', '', text, flags=re.DOTALL)    # Remove <style> tags\n",
        "\n",
        "    # 2. Remove HTML comments\n",
        "    text = re.sub(r'<!--.*?-->', '', text, flags=re.DOTALL)  # Remove comments (<!-- -->)\n",
        "\n",
        "    # 3. Remove remaining HTML tags using BeautifulSoup\n",
        "    soup = BeautifulSoup(text, \"html.parser\")\n",
        "    cleaned_text = soup.get_text()  # Extract text without tags\n",
        "\n",
        "    return cleaned_text\n",
        "\n",
        "# Example usage on your dataset (assuming 'data' is your DataFrame with a 'text' column)\n",
        "data['cleaned_text'] = data['text'].apply(clean_html)\n",
        "\n",
        "# Now, `data['cleaned_text']` will contain the HTML-free cleaned text\n",
        "print(data['cleaned_text'].head())\n"
      ]
    },
    {
      "cell_type": "markdown",
      "metadata": {
        "id": "rttHUpI6mvtf"
      },
      "source": [
        "- Remove all the special characters\n",
        "    \n",
        "- Remove numbers\n",
        "    \n",
        "- Remove all single characters\n",
        "\n",
        "- Remove single characters from the start\n",
        "\n",
        "- Substitute multiple spaces with single space\n",
        "\n",
        "- Remove prefixed 'b'\n",
        "\n",
        "- Convert to Lowercase"
      ]
    },
    {
      "cell_type": "code",
      "execution_count": null,
      "metadata": {
        "colab": {
          "base_uri": "https://localhost:8080/"
        },
        "id": "i9G5ObwGmvtg",
        "outputId": "c3eb7018-9ee5-4a61-bdcb-9390d51978a3"
      },
      "outputs": [
        {
          "name": "stdout",
          "output_type": "stream",
          "text": [
            "0    dear sir strictly private business proposal am...\n",
            "1                                              will do\n",
            "2    noracheryl has emailed dozens of memos about h...\n",
            "3    dear sirfmadamc know that this proposal might ...\n",
            "4                                                  fyi\n",
            "Name: cleaned_text, dtype: object\n"
          ]
        }
      ],
      "source": [
        "def clean_text(text):\n",
        "    # 1. Remove all special characters (keeping only alphabets and spaces)\n",
        "    text = re.sub(r'[^a-zA-Z\\s]', '', text)\n",
        "\n",
        "    # 2. Remove all numbers\n",
        "    text = re.sub(r'\\d+', '', text)\n",
        "\n",
        "    # 3. Remove all single characters (but keep important short words, e.g., \"a\", \"I\")\n",
        "    text = re.sub(r'\\b[a-zA-Z]\\b', '', text)\n",
        "\n",
        "    # 4. Remove single characters from the start of the text\n",
        "    text = re.sub(r'^\\b[a-zA-Z]\\b', '', text)\n",
        "\n",
        "    # 5. Substitute multiple spaces with a single space\n",
        "    text = re.sub(r'\\s+', ' ', text)\n",
        "\n",
        "    # 6. Remove any prefixed 'b' (for byte literals like b'abc')\n",
        "    text = re.sub(r\"^b'\", '', text)\n",
        "\n",
        "    # 7. Convert to lowercase\n",
        "    text = text.lower()\n",
        "\n",
        "    # Strip any extra leading/trailing spaces\n",
        "    text = text.strip()\n",
        "\n",
        "    return text\n",
        "\n",
        "# Example usage on your dataset (assuming 'data' is your DataFrame with a 'text' column)\n",
        "data['cleaned_text'] = data['text'].apply(clean_text)\n",
        "\n",
        "# Check the cleaned text\n",
        "print(data['cleaned_text'].head())\n"
      ]
    },
    {
      "cell_type": "markdown",
      "metadata": {
        "id": "-iH8_YDhmvth"
      },
      "source": [
        "## Now let's work on removing stopwords\n",
        "Remove the stopwords."
      ]
    },
    {
      "cell_type": "code",
      "execution_count": null,
      "metadata": {
        "colab": {
          "base_uri": "https://localhost:8080/"
        },
        "id": "bvzEmnrOmvti",
        "outputId": "62ee7bcd-413e-497a-b7ed-fe1c638bed79"
      },
      "outputs": [
        {
          "name": "stderr",
          "output_type": "stream",
          "text": [
            "[nltk_data] Downloading package stopwords to /root/nltk_data...\n",
            "[nltk_data]   Package stopwords is already up-to-date!\n"
          ]
        },
        {
          "name": "stdout",
          "output_type": "stream",
          "text": [
            "0    dear sir strictly private business proposal mi...\n",
            "1                                                     \n",
            "2    noracheryl emailed dozens memos haiti weekend ...\n",
            "3    dear sirfmadamc know proposal might surprise e...\n",
            "4                                                  fyi\n",
            "Name: cleaned_text, dtype: object\n"
          ]
        }
      ],
      "source": [
        "from nltk.corpus import stopwords\n",
        "# Download stopwords if not already available\n",
        "nltk.download('stopwords')\n",
        "\n",
        "# Get the list of stopwords\n",
        "stop_words = set(stopwords.words('english'))\n",
        "\n",
        "def clean_text_with_stopwords(text):\n",
        "    # 1. Remove all special characters (keeping only alphabets and spaces)\n",
        "    text = re.sub(r'[^a-zA-Z\\s]', '', text)\n",
        "\n",
        "    # 2. Remove all numbers\n",
        "    text = re.sub(r'\\d+', '', text)\n",
        "\n",
        "    # 3. Remove all single characters (but keep important short words, e.g., \"a\", \"I\")\n",
        "    text = re.sub(r'\\b[a-zA-Z]\\b', '', text)\n",
        "\n",
        "    # 4. Remove single characters from the start of the text\n",
        "    text = re.sub(r'^\\b[a-zA-Z]\\b', '', text)\n",
        "\n",
        "    # 5. Substitute multiple spaces with a single space\n",
        "    text = re.sub(r'\\s+', ' ', text)\n",
        "\n",
        "    # 6. Remove any prefixed 'b' (for byte literals like b'abc')\n",
        "    text = re.sub(r\"^b'\", '', text)\n",
        "\n",
        "    # 7. Convert to lowercase\n",
        "    text = text.lower()\n",
        "\n",
        "    # 8. Remove stopwords\n",
        "    text = ' '.join([word for word in text.split() if word not in stop_words])\n",
        "\n",
        "    # Strip any extra leading/trailing spaces\n",
        "    text = text.strip()\n",
        "\n",
        "    return text\n",
        "\n",
        "# Example usage on your dataset (assuming 'data' is your DataFrame with a 'text' column)\n",
        "data['cleaned_text'] = data['text'].apply(clean_text_with_stopwords)\n",
        "\n",
        "# Check the cleaned text after removing stopwords\n",
        "print(data['cleaned_text'].head())\n"
      ]
    },
    {
      "cell_type": "markdown",
      "metadata": {
        "id": "h3uDhILLmvti"
      },
      "source": [
        "## Tame Your Text with Lemmatization\n",
        "Break sentences into words, then use lemmatization to reduce them to their base form (e.g., \"running\" becomes \"run\"). See how this creates cleaner data for analysis!"
      ]
    },
    {
      "cell_type": "code",
      "execution_count": null,
      "metadata": {
        "colab": {
          "base_uri": "https://localhost:8080/"
        },
        "id": "P0i_ZHK3mvtj",
        "outputId": "f8890300-c9d6-4a39-a679-97b8eb861a2f"
      },
      "outputs": [
        {
          "name": "stderr",
          "output_type": "stream",
          "text": [
            "[nltk_data] Downloading package stopwords to /root/nltk_data...\n",
            "[nltk_data]   Package stopwords is already up-to-date!\n",
            "[nltk_data] Downloading package wordnet to /root/nltk_data...\n",
            "[nltk_data] Downloading package omw-1.4 to /root/nltk_data...\n"
          ]
        },
        {
          "name": "stdout",
          "output_type": "stream",
          "text": [
            "0    dear sir strictly private business proposal mi...\n",
            "1                                                     \n",
            "2    noracheryl emailed dozen memo haiti weekend pl...\n",
            "3    dear sirfmadamc know proposal might surprise e...\n",
            "4                                                  fyi\n",
            "Name: cleaned_text, dtype: object\n"
          ]
        }
      ],
      "source": [
        "from nltk.stem import WordNetLemmatizer\n",
        "\n",
        "\n",
        "# Download necessary NLTK data if not already available\n",
        "nltk.download('stopwords')\n",
        "nltk.download('wordnet')\n",
        "nltk.download('omw-1.4')  # For multilingual support in WordNet\n",
        "\n",
        "# Initialize the lemmatizer and get the stopwords\n",
        "lemmatizer = WordNetLemmatizer()\n",
        "stop_words = set(stopwords.words('english'))\n",
        "\n",
        "def clean_text_with_lemmatization(text):\n",
        "    # 1. Remove all special characters (keeping only alphabets and spaces)\n",
        "    text = re.sub(r'[^a-zA-Z\\s]', '', text)\n",
        "\n",
        "    # 2. Remove all numbers\n",
        "    text = re.sub(r'\\d+', '', text)\n",
        "\n",
        "    # 3. Remove all single characters (but keep important short words, e.g., \"a\", \"I\")\n",
        "    text = re.sub(r'\\b[a-zA-Z]\\b', '', text)\n",
        "\n",
        "    # 4. Remove single characters from the start of the text\n",
        "    text = re.sub(r'^\\b[a-zA-Z]\\b', '', text)\n",
        "\n",
        "    # 5. Substitute multiple spaces with a single space\n",
        "    text = re.sub(r'\\s+', ' ', text)\n",
        "\n",
        "    # 6. Remove any prefixed 'b' (for byte literals like b'abc')\n",
        "    text = re.sub(r\"^b'\", '', text)\n",
        "\n",
        "    # 7. Convert to lowercase\n",
        "    text = text.lower()\n",
        "\n",
        "    # 8. Remove stopwords\n",
        "    text = ' '.join([word for word in text.split() if word not in stop_words])\n",
        "\n",
        "    # 9. Lemmatization - Reduce words to their base form\n",
        "    text = ' '.join([lemmatizer.lemmatize(word) for word in text.split()])\n",
        "\n",
        "    # Strip any extra leading/trailing spaces\n",
        "    text = text.strip()\n",
        "\n",
        "    return text\n",
        "\n",
        "# Example usage on your dataset (assuming 'data' is your DataFrame with a 'text' column)\n",
        "data['cleaned_text'] = data['text'].apply(clean_text_with_lemmatization)\n",
        "\n",
        "# Check the cleaned text after lemmatization\n",
        "print(data['cleaned_text'].head())\n"
      ]
    },
    {
      "cell_type": "markdown",
      "metadata": {
        "id": "1Ri-C3tTmvtj"
      },
      "source": [
        "## Bag Of Words\n",
        "Let's get the 10 top words in ham and spam messages (**EXPLORATORY DATA ANALYSIS**)"
      ]
    },
    {
      "cell_type": "code",
      "execution_count": null,
      "metadata": {
        "colab": {
          "base_uri": "https://localhost:8080/"
        },
        "id": "19oGlJnlmvtk",
        "outputId": "74578ffd-4bcd-42b4-907a-336b4a7f5739"
      },
      "outputs": [
        {
          "name": "stderr",
          "output_type": "stream",
          "text": [
            "[nltk_data] Downloading package stopwords to /root/nltk_data...\n",
            "[nltk_data]   Package stopwords is already up-to-date!\n",
            "[nltk_data] Downloading package wordnet to /root/nltk_data...\n",
            "[nltk_data]   Package wordnet is already up-to-date!\n",
            "[nltk_data] Downloading package punkt to /root/nltk_data...\n",
            "[nltk_data]   Unzipping tokenizers/punkt.zip.\n"
          ]
        }
      ],
      "source": [
        "import nltk\n",
        "import re\n",
        "import pandas as pd\n",
        "import matplotlib.pyplot as plt\n",
        "from nltk.corpus import stopwords\n",
        "from nltk.stem import WordNetLemmatizer\n",
        "from collections import Counter\n",
        "\n",
        "# Download necessary resources\n",
        "nltk.download('stopwords')\n",
        "nltk.download('wordnet')\n",
        "nltk.download('punkt')\n",
        "\n",
        "lemmatizer = WordNetLemmatizer()\n",
        "stop_words = set(stopwords.words('english'))\n",
        "\n",
        "def clean_and_tokenize(text):\n",
        "    text = re.sub(r'[^a-zA-Z\\s]', '', text).lower()\n",
        "    words = [lemmatizer.lemmatize(word) for word in text.split() if word not in stop_words]\n",
        "    return words\n",
        "\n",
        "# Load data and process text\n",
        "data_train = pd.read_csv('kg_train.csv').fillna('')\n",
        "data_test = pd.read_csv('kg_test.csv').fillna('')\n",
        "\n",
        "ham_train = data_train[data_train['label'] == 'ham']['text'].apply(clean_and_tokenize)\n",
        "spam_train = data_train[data_train['label'] == 'spam']['text'].apply(clean_and_tokenize)\n",
        "\n",
        "ham_words = [word for msg in ham_train for word in msg]\n",
        "spam_words = [word for msg in spam_train for word in msg]\n",
        "\n",
        "# Count frequencies and get top 10 most common words\n",
        "top_10_ham = Counter(ham_words).most_common(10)\n",
        "top_10_spam = Counter(spam_words).most_common(10)\n",
        "\n",
        "def plot_top_words(top_words, title):\n",
        "    if top_words:\n",
        "        words, frequencies = zip(*top_words)\n",
        "        plt.figure(figsize=(10, 5))\n",
        "        plt.barh(words, frequencies, color='skyblue')\n",
        "        plt.xlabel('Frequency')\n",
        "        plt.title(title)\n",
        "        plt.gca().invert_yaxis()\n",
        "        plt.show()\n",
        "\n",
        "plot_top_words(top_10_ham, 'Top 10 Words in Ham Messages (Train)')\n",
        "plot_top_words(top_10_spam, 'Top 10 Words in Spam Messages (Train)')\n"
      ]
    },
    {
      "cell_type": "markdown",
      "metadata": {
        "id": "lpnqXuU2mvtl"
      },
      "source": [
        "## Extra features"
      ]
    },
    {
      "cell_type": "code",
      "execution_count": null,
      "metadata": {
        "id": "gyI3MMkWmvtl"
      },
      "outputs": [],
      "source": [
        "# We add to the original dataframe two additional indicators (money symbols and suspicious words).\n",
        "money_simbol_list = \"|\".join([\"euro\",\"dollar\",\"pound\",\"€\",\"$\"])\n",
        "suspicious_words = \"|\".join([\"free\",\"cheap\",\"sex\",\"money\",\"account\",\"bank\",\"fund\",\"transfer\",\"transaction\",\"win\",\"deposit\",\"password\"])\n",
        "\n",
        "data_train['money_mark'] = data_train['preprocessed_text'].str.contains(money_simbol_list)*1\n",
        "data_train['suspicious_words'] = data_train['preprocessed_text'].str.contains(suspicious_words)*1\n",
        "data_train['text_len'] = data_train['preprocessed_text'].apply(lambda x: len(x))\n",
        "\n",
        "data_val['money_mark'] = data_val['preprocessed_text'].str.contains(money_simbol_list)*1\n",
        "data_val['suspicious_words'] = data_val['preprocessed_text'].str.contains(suspicious_words)*1\n",
        "data_val['text_len'] = data_val['preprocessed_text'].apply(lambda x: len(x))\n",
        "\n",
        "data_train.head()"
      ]
    },
    {
      "cell_type": "markdown",
      "metadata": {
        "id": "QDJA_zefmvtn"
      },
      "source": [
        "## How would work the Bag of Words with Count Vectorizer concept?"
      ]
    },
    {
      "cell_type": "code",
      "execution_count": null,
      "metadata": {
        "colab": {
          "base_uri": "https://localhost:8080/"
        },
        "id": "gVjwX3Yqmvtn",
        "outputId": "5839b0a1-16c1-4525-f8de-4fcf0bb4d60a"
      },
      "outputs": [
        {
          "name": "stdout",
          "output_type": "stream",
          "text": [
            "Vocabulary: ['fun' 'is' 'love' 'programming']\n",
            "Bag of Words Representation:\n",
            " [[0 0 1 1]\n",
            " [1 1 0 1]\n",
            " [1 0 1 1]]\n"
          ]
        }
      ],
      "source": [
        "from sklearn.feature_extraction.text import CountVectorizer\n",
        "\n",
        "# Sample documents (corpus)\n",
        "documents = [\n",
        "    \"I love programming\",\n",
        "    \"Programming is fun\",\n",
        "    \"I love fun programming\"\n",
        "]\n",
        "\n",
        "# Create an instance of CountVectorizer\n",
        "vectorizer = CountVectorizer()\n",
        "\n",
        "# Fit and transform the documents into a matrix\n",
        "X = vectorizer.fit_transform(documents)\n",
        "\n",
        "# Convert to a dense array to view the result\n",
        "print(\"Vocabulary:\", vectorizer.get_feature_names_out())\n",
        "print(\"Bag of Words Representation:\\n\", X.toarray())\n"
      ]
    },
    {
      "cell_type": "markdown",
      "metadata": {
        "id": "NsFy17wMmvto"
      },
      "source": [
        "## TD-IDF\n",
        "\n",
        "- Load the vectorizer\n",
        "\n",
        "- Vectorize all dataset\n",
        "\n",
        "- print the shape of the vetorized dataset"
      ]
    },
    {
      "cell_type": "code",
      "execution_count": null,
      "metadata": {
        "colab": {
          "base_uri": "https://localhost:8080/"
        },
        "id": "-bGa4ag3mvtp",
        "outputId": "49a25306-b938-4481-fced-9d0b13f062d5"
      },
      "outputs": [
        {
          "name": "stdout",
          "output_type": "stream",
          "text": [
            "Shape of TF-IDF matrix: (3, 4)\n",
            "TF-IDF Matrix:\n",
            " [[0.         0.         0.78980693 0.61335554]\n",
            " [0.54783215 0.72033345 0.         0.42544054]\n",
            " [0.61980538 0.         0.61980538 0.48133417]]\n",
            "Vocabulary: ['fun' 'is' 'love' 'programming']\n"
          ]
        }
      ],
      "source": [
        "from sklearn.feature_extraction.text import TfidfVectorizer\n",
        "\n",
        "# Sample data\n",
        "documents = [\n",
        "    \"I love programming\",\n",
        "    \"Programming is fun\",\n",
        "    \"I love fun programming\"\n",
        "]\n",
        "\n",
        "# Initialize the TfidfVectorizer\n",
        "vectorizer = TfidfVectorizer()\n",
        "\n",
        "# Fit and transform the documents into a TF-IDF matrix\n",
        "X = vectorizer.fit_transform(documents)\n",
        "\n",
        "# Print the shape of the TF-IDF matrix (documents x features)\n",
        "print(\"Shape of TF-IDF matrix:\", X.shape)\n",
        "\n",
        "# If you want to view the actual TF-IDF values as an array\n",
        "print(\"TF-IDF Matrix:\\n\", X.toarray())\n",
        "\n",
        "# Vocabulary of terms used in the TF-IDF matrix\n",
        "print(\"Vocabulary:\", vectorizer.get_feature_names_out())\n"
      ]
    },
    {
      "cell_type": "markdown",
      "metadata": {
        "id": "xXiBhfMkmvtp"
      },
      "source": [
        "## And the Train a Classifier?"
      ]
    },
    {
      "cell_type": "code",
      "execution_count": null,
      "metadata": {
        "colab": {
          "base_uri": "https://localhost:8080/"
        },
        "id": "SSnZNh63mvtq",
        "outputId": "1be11a67-5b66-40e4-9353-856f6b827da8"
      },
      "outputs": [
        {
          "name": "stdout",
          "output_type": "stream",
          "text": [
            "Accuracy: 0.9748603351955307\n",
            "Classification Report:\n",
            "               precision    recall  f1-score   support\n",
            "\n",
            "           0       0.96      1.00      0.98      1002\n",
            "           1       1.00      0.94      0.97       788\n",
            "\n",
            "    accuracy                           0.97      1790\n",
            "   macro avg       0.98      0.97      0.97      1790\n",
            "weighted avg       0.98      0.97      0.97      1790\n",
            "\n"
          ]
        }
      ],
      "source": [
        "from sklearn.linear_model import LogisticRegression\n",
        "from sklearn.metrics import classification_report, accuracy_score\n",
        "from sklearn.datasets import load_files\n",
        "\n",
        "# Assuming you already have your text data in 'data_train' DataFrame\n",
        "# Let's assume the column \"text\" contains the documents and \"label\" contains the target (ham/spam)\n",
        "\n",
        "# Step 1: Prepare the Data\n",
        "X = data_train['text']  # Text data\n",
        "y = data_train['label']  # Labels (ham/spam)\n",
        "\n",
        "# Step 2: Split the Data into Training and Test Sets\n",
        "X_train, X_test, y_train, y_test = train_test_split(X, y, test_size=0.3, random_state=42)\n",
        "\n",
        "# Step 3: Vectorize the Text Data using TF-IDF\n",
        "vectorizer = TfidfVectorizer(stop_words='english', max_features=5000)\n",
        "X_train_tfidf = vectorizer.fit_transform(X_train)\n",
        "X_test_tfidf = vectorizer.transform(X_test)\n",
        "\n",
        "# Step 4: Train a Classifier (Logistic Regression as an example)\n",
        "classifier = LogisticRegression(max_iter=1000)\n",
        "classifier.fit(X_train_tfidf, y_train)\n",
        "\n",
        "# Step 5: Evaluate the Classifier\n",
        "y_pred = classifier.predict(X_test_tfidf)\n",
        "\n",
        "# Print Evaluation Metrics\n",
        "print(f\"Accuracy: {accuracy_score(y_test, y_pred)}\")\n",
        "print(\"Classification Report:\\n\", classification_report(y_test, y_pred))\n"
      ]
    },
    {
      "cell_type": "markdown",
      "metadata": {
        "id": "ymMx6Yj0mvtr"
      },
      "source": [
        "### Extra Task - Implement a SPAM/HAM classifier\n",
        "\n",
        "https://www.kaggle.com/t/b384e34013d54d238490103bc3c360ce\n",
        "\n",
        "The classifier can not be changed!!! It must be the MultinimialNB with default parameters!\n",
        "\n",
        "Your task is to find the **best feature representation**.\n",
        "\n",
        "You can work with teams of two persons (recommended)."
      ]
    },
    {
      "cell_type": "code",
      "execution_count": null,
      "metadata": {
        "colab": {
          "base_uri": "https://localhost:8080/"
        },
        "id": "8mXDaFAamvts",
        "outputId": "62f6d9af-0ef6-4240-c06f-21305c4c02c8"
      },
      "outputs": [
        {
          "name": "stdout",
          "output_type": "stream",
          "text": [
            "                                                text  label\n",
            "0  DEAR SIR, STRICTLY A PRIVATE BUSINESS PROPOSAL...      1\n",
            "1                                           Will do.      0\n",
            "2  Nora--Cheryl has emailed dozens of memos about...      0\n",
            "3  Dear Sir=2FMadam=2C I know that this proposal ...      1\n",
            "4                                                fyi      0\n"
          ]
        },
        {
          "name": "stderr",
          "output_type": "stream",
          "text": [
            "<ipython-input-25-890998f98327>:8: FutureWarning: A value is trying to be set on a copy of a DataFrame or Series through chained assignment using an inplace method.\n",
            "The behavior will change in pandas 3.0. This inplace method will never work because the intermediate object on which we are setting values always behaves as a copy.\n",
            "\n",
            "For example, when doing 'df[col].method(value, inplace=True)', try using 'df.method({col: value}, inplace=True)' or df[col] = df[col].method(value) instead, to perform the operation inplace on the original object.\n",
            "\n",
            "\n",
            "  data_train['text'].fillna('', inplace=True)\n",
            "<ipython-input-25-890998f98327>:9: FutureWarning: A value is trying to be set on a copy of a DataFrame or Series through chained assignment using an inplace method.\n",
            "The behavior will change in pandas 3.0. This inplace method will never work because the intermediate object on which we are setting values always behaves as a copy.\n",
            "\n",
            "For example, when doing 'df[col].method(value, inplace=True)', try using 'df.method({col: value}, inplace=True)' or df[col] = df[col].method(value) instead, to perform the operation inplace on the original object.\n",
            "\n",
            "\n",
            "  data_test['text'].fillna('', inplace=True)\n"
          ]
        }
      ],
      "source": [
        "import pandas as pd\n",
        "\n",
        "# Load the training and test datasets\n",
        "data_train = pd.read_csv(\"kg_train.csv\")  # Assuming the train dataset is in a CSV file\n",
        "data_test = pd.read_csv(\"kg_test.csv\")    # Assuming the test dataset is in a CSV file\n",
        "\n",
        "# Check for missing values and fill them if needed\n",
        "data_train['text'].fillna('', inplace=True)\n",
        "data_test['text'].fillna('', inplace=True)\n",
        "\n",
        "# Check the first few rows of the data\n",
        "print(data_train.head())\n"
      ]
    },
    {
      "cell_type": "code",
      "execution_count": null,
      "metadata": {
        "colab": {
          "base_uri": "https://localhost:8080/"
        },
        "id": "bBWKu9KZyWZG",
        "outputId": "26ea8893-494d-4ece-db39-429b3e947d97"
      },
      "outputs": [
        {
          "name": "stdout",
          "output_type": "stream",
          "text": [
            "BOW Shape:  (5964, 5000)\n"
          ]
        }
      ],
      "source": [
        "from sklearn.feature_extraction.text import CountVectorizer\n",
        "\n",
        "# Initialize the BOW vectorizer\n",
        "vectorizer_bow = CountVectorizer(stop_words='english', max_features=5000)\n",
        "\n",
        "# Transform the training and test data\n",
        "X_train_bow = vectorizer_bow.fit_transform(data_train['text'])\n",
        "X_test_bow = vectorizer_bow.transform(data_test['text'])\n",
        "\n",
        "# Check the shape of the BOW features\n",
        "print(\"BOW Shape: \", X_train_bow.shape)\n"
      ]
    },
    {
      "cell_type": "code",
      "execution_count": null,
      "metadata": {
        "colab": {
          "base_uri": "https://localhost:8080/"
        },
        "id": "gfbOWgiqybPo",
        "outputId": "43b3c3be-920f-4e8b-c5a6-869e9787c5b6"
      },
      "outputs": [
        {
          "name": "stdout",
          "output_type": "stream",
          "text": [
            "TF-IDF Shape:  (5964, 5000)\n"
          ]
        }
      ],
      "source": [
        "from sklearn.feature_extraction.text import TfidfVectorizer\n",
        "\n",
        "# Initialize the TF-IDF vectorizer\n",
        "vectorizer_tfidf = TfidfVectorizer(stop_words='english', max_features=5000)\n",
        "\n",
        "# Transform the training and test data\n",
        "X_train_tfidf = vectorizer_tfidf.fit_transform(data_train['text'])\n",
        "X_test_tfidf = vectorizer_tfidf.transform(data_test['text'])\n",
        "\n",
        "# Check the shape of the TF-IDF features\n",
        "print(\"TF-IDF Shape: \", X_train_tfidf.shape)\n"
      ]
    },
    {
      "cell_type": "code",
      "execution_count": null,
      "metadata": {
        "colab": {
          "base_uri": "https://localhost:8080/"
        },
        "id": "fqdphSAryfIp",
        "outputId": "8f27dd3f-f636-4de2-a90a-489d7222322a"
      },
      "outputs": [
        {
          "name": "stdout",
          "output_type": "stream",
          "text": [
            "Bigram Shape:  (5964, 5000)\n"
          ]
        }
      ],
      "source": [
        "# Initialize the vectorizer with bigrams (2-grams)\n",
        "vectorizer_bigrams = CountVectorizer(ngram_range=(2, 2), stop_words='english', max_features=5000)\n",
        "\n",
        "# Transform the training and test data\n",
        "X_train_bigrams = vectorizer_bigrams.fit_transform(data_train['text'])\n",
        "X_test_bigrams = vectorizer_bigrams.transform(data_test['text'])\n",
        "\n",
        "# Check the shape of the bigram features\n",
        "print(\"Bigram Shape: \", X_train_bigrams.shape)\n"
      ]
    }
  ],
  "metadata": {
    "celltoolbar": "Slideshow",
    "colab": {
      "provenance": []
    },
    "kernelspec": {
      "display_name": "Python 3",
      "language": "python",
      "name": "python3"
    },
    "language_info": {
      "codemirror_mode": {
        "name": "ipython",
        "version": 3
      },
      "file_extension": ".py",
      "mimetype": "text/x-python",
      "name": "python",
      "nbconvert_exporter": "python",
      "pygments_lexer": "ipython3",
      "version": "3.11.5"
    },
    "vscode": {
      "interpreter": {
        "hash": "aee8b7b246df8f9039afb4144a1f6fd8d2ca17a180786b69acc140d282b71a49"
      }
    }
  },
  "nbformat": 4,
  "nbformat_minor": 0
}
